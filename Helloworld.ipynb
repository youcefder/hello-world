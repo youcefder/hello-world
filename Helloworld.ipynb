{
 "cells": [
  {
   "cell_type": "markdown",
   "id": "8720ec80",
   "metadata": {},
   "source": [
    "This file produce some printing"
   ]
  },
  {
   "cell_type": "code",
   "execution_count": null,
   "id": "64cbdb25",
   "metadata": {},
   "outputs": [],
   "source": [
    "print(\"Hello world\")"
   ]
  },
  {
   "cell_type": "markdown",
   "id": "98d59b93",
   "metadata": {},
   "source": [
    "We introduce some interaction with the user"
   ]
  },
  {
   "cell_type": "code",
   "execution_count": null,
   "id": "4cc8f652",
   "metadata": {},
   "outputs": [],
   "source": [
    "name = input(\"what's your name?\")\n",
    "print(\"\\nHello \" + name)"
   ]
  },
  {
   "cell_type": "code",
   "execution_count": null,
   "id": "5df0808a",
   "metadata": {},
   "outputs": [],
   "source": []
  }
 ],
 "metadata": {
  "kernelspec": {
   "display_name": "Python 3 (ipykernel)",
   "language": "python",
   "name": "python3"
  },
  "language_info": {
   "codemirror_mode": {
    "name": "ipython",
    "version": 3
   },
   "file_extension": ".py",
   "mimetype": "text/x-python",
   "name": "python",
   "nbconvert_exporter": "python",
   "pygments_lexer": "ipython3",
   "version": "3.8.10"
  }
 },
 "nbformat": 4,
 "nbformat_minor": 5
}
